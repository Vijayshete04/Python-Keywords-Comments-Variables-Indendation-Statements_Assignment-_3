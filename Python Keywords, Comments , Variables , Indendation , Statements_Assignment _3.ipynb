{
 "cells": [
  {
   "cell_type": "markdown",
   "id": "9f725455",
   "metadata": {},
   "source": [
    "# Explain the significance of Python keywords and provide examples of five keywords"
   ]
  },
  {
   "cell_type": "code",
   "execution_count": 1,
   "id": "79f22017",
   "metadata": {},
   "outputs": [],
   "source": [
    "# significance of python keywords "
   ]
  },
  {
   "cell_type": "markdown",
   "id": "de330643",
   "metadata": {},
   "source": [
    "1] In python , Programming Language Certain Words which have a predefined meaning .\n",
    "     these words which are also kown as reserved words \n",
    "2] Reserved Words can not be used as Identifier (variable name , function name )\n",
    "      because they are predefined and serve crucial roles in the structure and execution of Python code\n"
   ]
  },
  {
   "cell_type": "code",
   "execution_count": 5,
   "id": "2fa3dca1",
   "metadata": {},
   "outputs": [
    {
     "name": "stdout",
     "output_type": "stream",
     "text": [
      "enter the first number65\n",
      "number is positive\n"
     ]
    }
   ],
   "source": [
    "#  first python keywords are (\"if\",\"elif\",\"else\")\n",
    "\n",
    "a= int (input(\"enter the first number\"))\n",
    "if a>0:\n",
    "    print(\"number is positive\")\n",
    "elif a<0:\n",
    "    print(\"number is negative\")\n",
    "else:\n",
    "    print(\"number is zero\")"
   ]
  },
  {
   "cell_type": "code",
   "execution_count": 7,
   "id": "afa5749c",
   "metadata": {},
   "outputs": [
    {
     "name": "stdout",
     "output_type": "stream",
     "text": [
      "<class 'int'>\n"
     ]
    }
   ],
   "source": [
    "# second python keyword is \" type \"\"\n",
    "\n",
    "a=5\n",
    "print(type(a))"
   ]
  },
  {
   "cell_type": "code",
   "execution_count": 1,
   "id": "99fa677d",
   "metadata": {},
   "outputs": [
    {
     "name": "stdout",
     "output_type": "stream",
     "text": [
      "1\n",
      "2\n",
      "3\n",
      "4\n",
      "5\n",
      "6\n",
      "7\n",
      "8\n",
      "9\n",
      "10\n"
     ]
    }
   ],
   "source": [
    "# third python keyword is \"while\" \n",
    "i=0\n",
    "while i<10:\n",
    "    i=i+1\n",
    "    print(i)"
   ]
  },
  {
   "cell_type": "code",
   "execution_count": 15,
   "id": "38b6e3c5",
   "metadata": {},
   "outputs": [
    {
     "name": "stdout",
     "output_type": "stream",
     "text": [
      "enter the valur of number 5\n",
      "5\n",
      "10\n",
      "15\n",
      "20\n",
      "25\n",
      "30\n",
      "35\n",
      "40\n",
      "45\n"
     ]
    }
   ],
   "source": [
    "# fourth python keyword is \"for\" and \"break\", \"range\"\n",
    "n =int(input(\"enter the valur of number \"))\n",
    "i=1\n",
    "for i in range(1,10):\n",
    "    print(i*n)\n",
    "    \n",
    "    i=i+1"
   ]
  },
  {
   "cell_type": "code",
   "execution_count": 16,
   "id": "14ffa76b",
   "metadata": {},
   "outputs": [],
   "source": [
    "# fifth python keyword is\" def \"\n",
    "def my_function():\n",
    "    print(\"my name is vijay\")\n",
    "    "
   ]
  },
  {
   "cell_type": "code",
   "execution_count": 17,
   "id": "d46e460f",
   "metadata": {},
   "outputs": [
    {
     "name": "stdout",
     "output_type": "stream",
     "text": [
      "my name is vijay\n"
     ]
    }
   ],
   "source": [
    "my_function()"
   ]
  },
  {
   "cell_type": "markdown",
   "id": "d5866d8e",
   "metadata": {},
   "source": [
    "# # what are comments in python ? and for what purpose it is useful that in python"
   ]
  },
  {
   "cell_type": "markdown",
   "id": "4616d9ac",
   "metadata": {},
   "source": [
    "\"\"\" In Python, comments are explanatory statements that are not executed as part of the program. \n",
    "They are added to the code to provide information, explanations, or annotations.\n",
    "Comments are ignored by the Python interpreter and serve the purpose of making the code \n",
    "more readable and understandable for developers.\n",
    " and in the python comments are denoted as ''#' function\"\"\""
   ]
  },
  {
   "cell_type": "code",
   "execution_count": 20,
   "id": "24311c9d",
   "metadata": {},
   "outputs": [],
   "source": [
    "# by creating a function for an add two  numbeer "
   ]
  },
  {
   "cell_type": "code",
   "execution_count": 24,
   "id": "0cae7933",
   "metadata": {},
   "outputs": [],
   "source": [
    "def my_function():\n",
    "    return(\"sum of two numbers is \", a+b) "
   ]
  },
  {
   "cell_type": "code",
   "execution_count": 27,
   "id": "6b3f3138",
   "metadata": {},
   "outputs": [
    {
     "name": "stdout",
     "output_type": "stream",
     "text": [
      "enter the value of two numbers 20\n",
      "enter the second numbers 20\n"
     ]
    },
    {
     "data": {
      "text/plain": [
       "('sum of two numbers is ', 40)"
      ]
     },
     "execution_count": 27,
     "metadata": {},
     "output_type": "execute_result"
    }
   ],
   "source": [
    "a=int(input(\"enter the value of two numbers \"))             # this a will take inout \n",
    "b= int(input(\"enter the second numbers \"))\n",
    "my_function()                                                # this is call the function "
   ]
  },
  {
   "cell_type": "markdown",
   "id": "918c3792",
   "metadata": {},
   "source": [
    "# Why is proper indentation important in Python ?\n"
   ]
  },
  {
   "cell_type": "markdown",
   "id": "b01e0a63",
   "metadata": {},
   "source": [
    "Proper indentation is crucial in Python because it is used to indicate the structure and scope of the code. Unlike many other programming languages that use braces {} or other explicit block delimiters, Python uses indentation to define blocks of code. The indentation level determines which statements belong to a particular block or suite.\n",
    "following are the result for an use indentation \n",
    "1) Readability\n",
    "2) Block Structure\n",
    "3) Enforcement of structure \n",
    "4) Consistence\n"
   ]
  },
  {
   "cell_type": "code",
   "execution_count": 29,
   "id": "b3169f8a",
   "metadata": {},
   "outputs": [
    {
     "name": "stdout",
     "output_type": "stream",
     "text": [
      "1\n",
      "2\n",
      "3\n",
      "4\n",
      "5\n",
      "6\n",
      "7\n",
      "8\n",
      "9\n"
     ]
    }
   ],
   "source": [
    "for i in range(1,10):                      # this is for loop\n",
    "    print(i)                                # here we will use a proper indentation so not face any error \n",
    "    i=i+1"
   ]
  },
  {
   "cell_type": "markdown",
   "id": "a1c2ff31",
   "metadata": {},
   "source": [
    "# What happens if indentation is incorrect in Python?"
   ]
  },
  {
   "cell_type": "markdown",
   "id": "0bca138d",
   "metadata": {},
   "source": [
    "indentation is incorrect in Python, it can lead to various issues, including syntax errors, logical errors, and unintended behavior. Here's what can happen if indentation is incorrect in Python:\n",
    "Syntax Errors:\n",
    "\n",
    "Incorrect indentation can result in syntax errors, causing the Python interpreter to raise exceptions and halt the execution of the program\n",
    "\n",
    "Improper indentation can alter the block structure of the code, leading to unintended grouping of statements\n",
    "\n",
    "Logic Errors:\n",
    "\n",
    "Incorrect indentation can introduce logic errors, where the program behaves differently from what was intended by the developer. \n",
    "\n"
   ]
  },
  {
   "cell_type": "code",
   "execution_count": 30,
   "id": "fab27b3b",
   "metadata": {},
   "outputs": [
    {
     "ename": "IndentationError",
     "evalue": "expected an indented block after 'for' statement on line 3 (1081721854.py, line 4)",
     "output_type": "error",
     "traceback": [
      "\u001b[1;36m  Cell \u001b[1;32mIn[30], line 4\u001b[1;36m\u001b[0m\n\u001b[1;33m    print(i)                           # This will result in an indentation error\u001b[0m\n\u001b[1;37m    ^\u001b[0m\n\u001b[1;31mIndentationError\u001b[0m\u001b[1;31m:\u001b[0m expected an indented block after 'for' statement on line 3\n"
     ]
    }
   ],
   "source": [
    "# Incorrect indentation\n",
    "\n",
    "for i in range(5):\n",
    "print(i)                           # This will result in an indentation error\n",
    "\n",
    "# Correct indentation\n",
    "\n",
    "for i in range(5):\n",
    "    print(i)                       # This is properly indented and will not cause an error\n"
   ]
  },
  {
   "cell_type": "markdown",
   "id": "3d0f01e7",
   "metadata": {},
   "source": [
    "# Differentiate 0etween expression and statement in Python with examples"
   ]
  },
  {
   "cell_type": "markdown",
   "id": "3c19c39f",
   "metadata": {},
   "source": [
    "# Expression:\n",
    "An expression is a combination of values, variables, operators,\n",
    "and function calls that results in a value. In other words, an expression produces a value when evaluated.\n",
    " "
   ]
  },
  {
   "cell_type": "code",
   "execution_count": 31,
   "id": "87ef07a6",
   "metadata": {},
   "outputs": [],
   "source": [
    "# example "
   ]
  },
  {
   "cell_type": "code",
   "execution_count": 32,
   "id": "548a8464",
   "metadata": {},
   "outputs": [],
   "source": [
    "x = 5                   # Assignment expression\n",
    "y = x + 3               # Arithmetic expression\n",
    "is_greater = (y > x)    # Comparison expression\n",
    "result = len(\"hello\")   # Function call expression\n"
   ]
  },
  {
   "cell_type": "markdown",
   "id": "16fe9e3a",
   "metadata": {},
   "source": [
    "# Statement:\n",
    "A statement is a complete line of code that performs a specific action. \n",
    "Statements can include expressions, but not all expressions are statements. \n",
    "A statement is often a complete instruction that the Python interpreter can execute."
   ]
  },
  {
   "cell_type": "code",
   "execution_count": 33,
   "id": "e9e7012e",
   "metadata": {},
   "outputs": [],
   "source": [
    "# example \n"
   ]
  },
  {
   "cell_type": "code",
   "execution_count": 36,
   "id": "f39af30b",
   "metadata": {},
   "outputs": [
    {
     "name": "stdout",
     "output_type": "stream",
     "text": [
      "enter the value of number 5\n",
      "8\n",
      "Positive number\n"
     ]
    }
   ],
   "source": [
    "x = int(input(\"enter the value of number \"))                               # Assignment statement\n",
    "print(x + 3)                                                               # Print statement with an expression\n",
    "if x > 0:                                                                  # If statement with a condition\n",
    "    print(\"Positive number\")\n"
   ]
  },
  {
   "cell_type": "code",
   "execution_count": null,
   "id": "8271ca74",
   "metadata": {},
   "outputs": [],
   "source": []
  }
 ],
 "metadata": {
  "kernelspec": {
   "display_name": "Python 3 (ipykernel)",
   "language": "python",
   "name": "python3"
  },
  "language_info": {
   "codemirror_mode": {
    "name": "ipython",
    "version": 3
   },
   "file_extension": ".py",
   "mimetype": "text/x-python",
   "name": "python",
   "nbconvert_exporter": "python",
   "pygments_lexer": "ipython3",
   "version": "3.11.5"
  }
 },
 "nbformat": 4,
 "nbformat_minor": 5
}
